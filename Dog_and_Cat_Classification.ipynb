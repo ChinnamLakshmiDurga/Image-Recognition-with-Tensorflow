{
  "nbformat": 4,
  "nbformat_minor": 0,
  "metadata": {
    "colab": {
      "name": "Dog_and_Cat_Image_Classification.ipynb",
      "provenance": [],
      "collapsed_sections": [],
      "include_colab_link": true
    },
    "kernelspec": {
      "name": "python3",
      "display_name": "Python 3"
    },
    "language_info": {
      "name": "python"
    },
    "accelerator": "GPU"
  },
  "cells": [
    {
      "cell_type": "markdown",
      "metadata": {
        "id": "view-in-github",
        "colab_type": "text"
      },
      "source": [
        "<a href=\"https://colab.research.google.com/github/ChinnamLakshmiDurga/Image-Recognition-with-Tensorflow/blob/main/Dog_and_cCat_Classification.ipynb\" target=\"_parent\"><img src=\"https://colab.research.google.com/assets/colab-badge.svg\" alt=\"Open In Colab\"/></a>"
      ]
    },
    {
      "cell_type": "code",
      "metadata": {
        "id": "j5txgKq-x3Q4"
      },
      "source": [
        "# Import your libraries\n",
        "import os\n",
        "import zipfile\n",
        "import random\n",
        "import tensorflow as tf\n",
        "from tensorflow.keras.optimizers import RMSprop\n",
        "from tensorflow.keras.preprocessing.image import ImageDataGenerator\n",
        "from shutil import copyfile"
      ],
      "execution_count": null,
      "outputs": []
    },
    {
      "cell_type": "code",
      "metadata": {
        "colab": {
          "base_uri": "https://localhost:8080/"
        },
        "id": "zXGWyAgcz1A9",
        "outputId": "10b1e47a-ba84-4ed6-fc04-d049a124e762"
      },
      "source": [
        "# Download a dataset of cats and dogs\n",
        "!wget --no-check-certificate \\\n",
        "    \"https://download.microsoft.com/download/3/E/1/3E1C3F21-ECDB-4869-8368-6DEBA77B919F/kagglecatsanddogs_3367a.zip\" \\\n",
        "    -O \"/tmp/cats-and-dogs.zip\"\n",
        "\n",
        "local_zip = '/tmp/cats-and-dogs.zip'\n",
        "zip_ref = zipfile.ZipFile(local_zip, 'r')\n",
        "zip_ref.extractall('/tmp')\n",
        "zip_ref.close()"
      ],
      "execution_count": null,
      "outputs": [
        {
          "output_type": "stream",
          "name": "stdout",
          "text": [
            "--2021-09-25 15:48:53--  https://download.microsoft.com/download/3/E/1/3E1C3F21-ECDB-4869-8368-6DEBA77B919F/kagglecatsanddogs_3367a.zip\n",
            "Resolving download.microsoft.com (download.microsoft.com)... 23.78.216.154, 2600:140e:6:b8d::e59, 2600:140e:6:ba1::e59\n",
            "Connecting to download.microsoft.com (download.microsoft.com)|23.78.216.154|:443... connected.\n",
            "HTTP request sent, awaiting response... 200 OK\n",
            "Length: 824894548 (787M) [application/octet-stream]\n",
            "Saving to: ‘/tmp/cats-and-dogs.zip’\n",
            "\n",
            "/tmp/cats-and-dogs. 100%[===================>] 786.68M   114MB/s    in 6.8s    \n",
            "\n",
            "2021-09-25 15:49:00 (115 MB/s) - ‘/tmp/cats-and-dogs.zip’ saved [824894548/824894548]\n",
            "\n"
          ]
        }
      ]
    },
    {
      "cell_type": "code",
      "metadata": {
        "colab": {
          "base_uri": "https://localhost:8080/"
        },
        "id": "QSKfdXXE0_2g",
        "outputId": "71db980c-1d50-4cce-a08c-9aeb84d35b30"
      },
      "source": [
        "print(len(os.listdir('/tmp/PetImages/Cat/')))\n",
        "print(len(os.listdir('/tmp/PetImages/Dog/')))"
      ],
      "execution_count": null,
      "outputs": [
        {
          "output_type": "stream",
          "name": "stdout",
          "text": [
            "12501\n",
            "12501\n"
          ]
        }
      ]
    },
    {
      "cell_type": "code",
      "metadata": {
        "id": "w_MF8OY51Jm-"
      },
      "source": [
        "# Make the Directories to split the pictures and set up for image data generator\n",
        "try:\n",
        "  os.makedirs('/tmp/cats_v_dogs/')\n",
        "  os.makedirs('/tmp/cats_v_dogs/training/cats/')\n",
        "  os.makedirs('/tmp/cats_v_dogs/training/dogs/')\n",
        "  os.makedirs('/tmp/cats_v_dogs/testing/cats/')\n",
        "  os.makedirs('/tmp/cats_v_dogs/testing/dogs/')\n",
        "\n",
        "except OSError:\n",
        "    pass"
      ],
      "execution_count": null,
      "outputs": []
    },
    {
      "cell_type": "code",
      "metadata": {
        "id": "EcKlNLZy2lqt"
      },
      "source": [
        "# Function to split the data into the directories\n",
        "def split_data(SOURCE, TRAINING, TESTING, SPLIT_SIZE):\n",
        "  orig_files = os.listdir(SOURCE)\n",
        "\n",
        "  # Shuffling files\n",
        "  random.shuffle(orig_files)\n",
        "\n",
        "  # Get the sizes of training and test sets\n",
        "  train_size = int(len(orig_files) * SPLIT_SIZE)\n",
        "\n",
        "  # Designate the files to their respective sets\n",
        "  train_files = orig_files[:train_size]\n",
        "  test_files = orig_files[train_size:]\n",
        "\n",
        "  # Copy over the training files\n",
        "  for filename in train_files:\n",
        "    src_path = os.path.join(SOURCE, filename)\n",
        "    if os.path.getsize(src_path) > 0:\n",
        "      copyfile(src_path, os.path.join(TRAINING, filename))\n",
        "\n",
        "  # Copy over the testing files\n",
        "  for filename in test_files:\n",
        "    src_path = os.path.join(SOURCE, filename)\n",
        "    if os.path.getsize(src_path) > 0:\n",
        "      copyfile(src_path, os.path.join(TESTING, filename))\n",
        "\n",
        "CAT_SOURCE_DIR = \"/tmp/PetImages/Cat/\"\n",
        "TRAINING_CATS_DIR = \"/tmp/cats_v_dogs/training/cats/\"\n",
        "TESTING_CATS_DIR = \"/tmp/cats_v_dogs/testing/cats/\"\n",
        "DOG_SOURCE_DIR = \"/tmp/PetImages/Dog/\"\n",
        "TRAINING_DOGS_DIR = \"/tmp/cats_v_dogs/training/dogs/\"\n",
        "TESTING_DOGS_DIR = \"/tmp/cats_v_dogs/testing/dogs/\"\n",
        "\n",
        "split_size = .9\n",
        "split_data(CAT_SOURCE_DIR, TRAINING_CATS_DIR, TESTING_CATS_DIR, split_size)\n",
        "split_data(DOG_SOURCE_DIR, TRAINING_DOGS_DIR, TESTING_DOGS_DIR, split_size)"
      ],
      "execution_count": null,
      "outputs": []
    },
    {
      "cell_type": "code",
      "metadata": {
        "colab": {
          "base_uri": "https://localhost:8080/"
        },
        "id": "ivDvfU8o7PkL",
        "outputId": "aa56ae71-4079-40da-bb33-1dbc7ff17488"
      },
      "source": [
        "print(len(os.listdir('/tmp/cats_v_dogs/training/cats/')))\n",
        "print(len(os.listdir('/tmp/cats_v_dogs/training/dogs/')))\n",
        "print(len(os.listdir('/tmp/cats_v_dogs/testing/cats/')))\n",
        "print(len(os.listdir('/tmp/cats_v_dogs/testing/dogs/')))"
      ],
      "execution_count": null,
      "outputs": [
        {
          "output_type": "stream",
          "name": "stdout",
          "text": [
            "11249\n",
            "11249\n",
            "1251\n",
            "1251\n"
          ]
        }
      ]
    },
    {
      "cell_type": "code",
      "metadata": {
        "colab": {
          "base_uri": "https://localhost:8080/"
        },
        "id": "dRSWReHM7ybC",
        "outputId": "d5acb905-c73f-48df-b6c2-3ed6bfe3fa18"
      },
      "source": [
        "model = tf.keras.models.Sequential([\n",
        "    tf.keras.layers.Conv2D(32, (3,3), activation='relu', input_shape=(150, 150, 3)),\n",
        "    tf.keras.layers.MaxPooling2D(2, 2),\n",
        "    tf.keras.layers.Conv2D(64, (3,3), activation='relu'),\n",
        "    tf.keras.layers.MaxPooling2D(2,2),\n",
        "    tf.keras.layers.Conv2D(128, (3,3), activation='relu'),\n",
        "    tf.keras.layers.MaxPooling2D(2,2),\n",
        "    tf.keras.layers.Conv2D(128, (3,3), activation='relu'),\n",
        "    tf.keras.layers.MaxPooling2D(2,2),\n",
        "    tf.keras.layers.Flatten(),\n",
        "    tf.keras.layers.Dense(512, activation='relu'),\n",
        "    tf.keras.layers.Dense(1, activation='sigmoid')\n",
        "])\n",
        "\n",
        "model.compile(loss='binary_crossentropy',\n",
        "              optimizer=RMSprop(lr=1e-4),\n",
        "              metrics=['accuracy'])"
      ],
      "execution_count": null,
      "outputs": [
        {
          "output_type": "stream",
          "name": "stderr",
          "text": [
            "/usr/local/lib/python3.7/dist-packages/keras/optimizer_v2/optimizer_v2.py:356: UserWarning: The `lr` argument is deprecated, use `learning_rate` instead.\n",
            "  \"The `lr` argument is deprecated, use `learning_rate` instead.\")\n"
          ]
        }
      ]
    },
    {
      "cell_type": "code",
      "metadata": {
        "colab": {
          "base_uri": "https://localhost:8080/"
        },
        "id": "ojwaVop88jbO",
        "outputId": "8161922e-fd89-433d-cacb-05efddff8b39"
      },
      "source": [
        "# Initializing data generators\n",
        "TRAINING_DIR = '/tmp/cats_v_dogs/training/'\n",
        "train_datagen = ImageDataGenerator(rescale=1./255)\n",
        "train_generator = train_datagen.flow_from_directory(\n",
        "        TRAINING_DIR,  # This is the source directory for training images\n",
        "        target_size=(150, 150),  # All images will be resized to 150x150\n",
        "        batch_size=20,\n",
        "        # Since we use binary_crossentropy loss, we need binary labels\n",
        "        class_mode='binary')\n",
        "\n",
        "VALIDATION_DIR = '/tmp/cats_v_dogs/testing/'\n",
        "validation_datagen = ImageDataGenerator(rescale=1./255)\n",
        "validation_generator = train_datagen.flow_from_directory(\n",
        "        VALIDATION_DIR,  # This is the source directory for training images\n",
        "        target_size=(150, 150),  # All images will be resized to 150x150\n",
        "        batch_size=20,\n",
        "        # Since we use binary_crossentropy loss, we need binary labels\n",
        "        class_mode='binary')"
      ],
      "execution_count": null,
      "outputs": [
        {
          "output_type": "stream",
          "name": "stdout",
          "text": [
            "Found 22496 images belonging to 2 classes.\n",
            "Found 2502 images belonging to 2 classes.\n"
          ]
        }
      ]
    },
    {
      "cell_type": "code",
      "metadata": {
        "colab": {
          "base_uri": "https://localhost:8080/"
        },
        "id": "lkE_e1BM9R5p",
        "outputId": "07a7181f-fe8c-47ec-ea6f-f5698a6695b5"
      },
      "source": [
        "history = model.fit(train_generator,\n",
        "                              epochs=15,\n",
        "                              verbose=1,\n",
        "                              validation_data=validation_generator)"
      ],
      "execution_count": null,
      "outputs": [
        {
          "output_type": "stream",
          "name": "stdout",
          "text": [
            "Epoch 1/15\n",
            "  18/1125 [..............................] - ETA: 1:26 - loss: 0.7031 - accuracy: 0.4694"
          ]
        },
        {
          "output_type": "stream",
          "name": "stderr",
          "text": [
            "/usr/local/lib/python3.7/dist-packages/PIL/TiffImagePlugin.py:770: UserWarning: Possibly corrupt EXIF data.  Expecting to read 32 bytes but only got 0. Skipping tag 270\n",
            "  \" Skipping tag %s\" % (size, len(data), tag)\n",
            "/usr/local/lib/python3.7/dist-packages/PIL/TiffImagePlugin.py:770: UserWarning: Possibly corrupt EXIF data.  Expecting to read 5 bytes but only got 0. Skipping tag 271\n",
            "  \" Skipping tag %s\" % (size, len(data), tag)\n",
            "/usr/local/lib/python3.7/dist-packages/PIL/TiffImagePlugin.py:770: UserWarning: Possibly corrupt EXIF data.  Expecting to read 8 bytes but only got 0. Skipping tag 272\n",
            "  \" Skipping tag %s\" % (size, len(data), tag)\n",
            "/usr/local/lib/python3.7/dist-packages/PIL/TiffImagePlugin.py:770: UserWarning: Possibly corrupt EXIF data.  Expecting to read 8 bytes but only got 0. Skipping tag 282\n",
            "  \" Skipping tag %s\" % (size, len(data), tag)\n",
            "/usr/local/lib/python3.7/dist-packages/PIL/TiffImagePlugin.py:770: UserWarning: Possibly corrupt EXIF data.  Expecting to read 8 bytes but only got 0. Skipping tag 283\n",
            "  \" Skipping tag %s\" % (size, len(data), tag)\n",
            "/usr/local/lib/python3.7/dist-packages/PIL/TiffImagePlugin.py:770: UserWarning: Possibly corrupt EXIF data.  Expecting to read 20 bytes but only got 0. Skipping tag 306\n",
            "  \" Skipping tag %s\" % (size, len(data), tag)\n",
            "/usr/local/lib/python3.7/dist-packages/PIL/TiffImagePlugin.py:770: UserWarning: Possibly corrupt EXIF data.  Expecting to read 48 bytes but only got 0. Skipping tag 532\n",
            "  \" Skipping tag %s\" % (size, len(data), tag)\n",
            "/usr/local/lib/python3.7/dist-packages/PIL/TiffImagePlugin.py:788: UserWarning: Corrupt EXIF data.  Expecting to read 2 bytes but only got 0. \n",
            "  warnings.warn(str(msg))\n"
          ]
        },
        {
          "output_type": "stream",
          "name": "stdout",
          "text": [
            "1125/1125 [==============================] - 134s 90ms/step - loss: 0.5826 - accuracy: 0.6778 - val_loss: 0.4870 - val_accuracy: 0.7680\n",
            "Epoch 2/15\n",
            "1125/1125 [==============================] - 104s 92ms/step - loss: 0.4619 - accuracy: 0.7783 - val_loss: 0.4468 - val_accuracy: 0.7880\n",
            "Epoch 3/15\n",
            "1125/1125 [==============================] - 103s 91ms/step - loss: 0.4059 - accuracy: 0.8133 - val_loss: 0.4722 - val_accuracy: 0.7732\n",
            "Epoch 4/15\n",
            "1125/1125 [==============================] - 103s 92ms/step - loss: 0.3627 - accuracy: 0.8387 - val_loss: 0.3837 - val_accuracy: 0.8228\n",
            "Epoch 5/15\n",
            "1125/1125 [==============================] - 100s 89ms/step - loss: 0.3254 - accuracy: 0.8577 - val_loss: 0.3539 - val_accuracy: 0.8428\n",
            "Epoch 6/15\n",
            "1125/1125 [==============================] - 100s 89ms/step - loss: 0.2943 - accuracy: 0.8738 - val_loss: 0.4091 - val_accuracy: 0.8160\n",
            "Epoch 7/15\n",
            "1125/1125 [==============================] - 100s 89ms/step - loss: 0.2619 - accuracy: 0.8901 - val_loss: 0.3733 - val_accuracy: 0.8360\n",
            "Epoch 8/15\n",
            "1125/1125 [==============================] - 100s 89ms/step - loss: 0.2347 - accuracy: 0.9035 - val_loss: 0.3435 - val_accuracy: 0.8608\n",
            "Epoch 9/15\n",
            "1125/1125 [==============================] - 99s 88ms/step - loss: 0.2096 - accuracy: 0.9147 - val_loss: 0.3160 - val_accuracy: 0.8692\n",
            "Epoch 10/15\n",
            "1125/1125 [==============================] - 101s 89ms/step - loss: 0.1824 - accuracy: 0.9253 - val_loss: 0.3126 - val_accuracy: 0.8740\n",
            "Epoch 11/15\n",
            "1125/1125 [==============================] - 98s 87ms/step - loss: 0.1561 - accuracy: 0.9367 - val_loss: 0.3395 - val_accuracy: 0.8612\n",
            "Epoch 12/15\n",
            "1125/1125 [==============================] - 98s 87ms/step - loss: 0.1338 - accuracy: 0.9472 - val_loss: 0.3309 - val_accuracy: 0.8748\n",
            "Epoch 13/15\n",
            "1125/1125 [==============================] - 95s 85ms/step - loss: 0.1128 - accuracy: 0.9560 - val_loss: 0.3613 - val_accuracy: 0.8796\n",
            "Epoch 14/15\n",
            "1125/1125 [==============================] - 96s 85ms/step - loss: 0.0938 - accuracy: 0.9655 - val_loss: 0.3576 - val_accuracy: 0.8856\n",
            "Epoch 15/15\n",
            "1125/1125 [==============================] - 95s 84ms/step - loss: 0.0787 - accuracy: 0.9697 - val_loss: 0.3751 - val_accuracy: 0.8740\n"
          ]
        }
      ]
    },
    {
      "cell_type": "code",
      "metadata": {
        "colab": {
          "base_uri": "https://localhost:8080/",
          "height": 563
        },
        "id": "t-OUWPp595nG",
        "outputId": "320c2928-ef4d-4d91-f606-1666d961c6c3"
      },
      "source": [
        "# PLOT LOSS AND ACCURACY\n",
        "%matplotlib inline\n",
        "\n",
        "import matplotlib.image  as mpimg\n",
        "import matplotlib.pyplot as plt\n",
        "\n",
        "#-----------------------------------------------------------\n",
        "# Retrieve a list of list results on training and test data\n",
        "# sets for each training epoch\n",
        "#-----------------------------------------------------------\n",
        "acc=history.history['accuracy']\n",
        "val_acc=history.history['val_accuracy']\n",
        "loss=history.history['loss']\n",
        "val_loss=history.history['val_loss']\n",
        "\n",
        "epochs=range(len(acc)) # Get number of epochs\n",
        "\n",
        "#------------------------------------------------\n",
        "# Plot training and validation accuracy per epoch\n",
        "#------------------------------------------------\n",
        "plt.plot(epochs, acc, 'r', \"Training Accuracy\")\n",
        "plt.plot(epochs, val_acc, 'b', \"Validation Accuracy\")\n",
        "plt.title('Training and validation accuracy')\n",
        "plt.figure()\n",
        "\n",
        "#------------------------------------------------\n",
        "# Plot training and validation loss per epoch\n",
        "#------------------------------------------------\n",
        "plt.plot(epochs, loss, 'r', \"Training Loss\")\n",
        "plt.plot(epochs, val_loss, 'b', \"Validation Loss\")\n",
        "\n",
        "\n",
        "plt.title('Training and validation loss')\n"
      ],
      "execution_count": null,
      "outputs": [
        {
          "output_type": "execute_result",
          "data": {
            "text/plain": [
              "Text(0.5, 1.0, 'Training and validation loss')"
            ]
          },
          "metadata": {},
          "execution_count": 11
        },
        {
          "output_type": "display_data",
          "data": {
            "image/png": "[encoded data removed]",
            "text/plain": [
              "<Figure size 432x288 with 1 Axes>"
            ]
          },
          "metadata": {
            "needs_background": "light"
          }
        },
        {
          "output_type": "display_data",
          "data": {
            "image/png": "[encoded data removed]",
            "text/plain": [
              "<Figure size 432x288 with 1 Axes>"
            ]
          },
          "metadata": {
            "needs_background": "light"
          }
        }
      ]
    },
    {
      "cell_type": "code",
      "metadata": {
        "id": "8j7DFHMoAIsd"
      },
      "source": [
        ""
      ],
      "execution_count": null,
      "outputs": []
    }
  ]
}
